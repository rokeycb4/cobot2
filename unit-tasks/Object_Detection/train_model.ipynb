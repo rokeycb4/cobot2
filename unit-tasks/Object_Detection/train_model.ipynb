{
 "cells": [
  {
   "cell_type": "code",
   "execution_count": null,
   "id": "2889800e",
   "metadata": {},
   "outputs": [],
   "source": [
    "from ultralytics import YOLO\n",
    "import os\n",
    "\n",
    "model = YOLO(\"./yolo11n.pt\")\n",
    "model.train(data=\"./dataset/data.yaml\", epochs=50, imgsz=640, batch=16)"
   ]
  }
 ],
 "metadata": {
  "language_info": {
   "name": "python"
  }
 },
 "nbformat": 4,
 "nbformat_minor": 5
}
