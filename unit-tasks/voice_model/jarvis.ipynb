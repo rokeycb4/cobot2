{
 "cells": [
  {
   "cell_type": "code",
   "execution_count": null,
   "id": "198a84a4",
   "metadata": {},
   "outputs": [],
   "source": [
    "import openai\n",
    "import os\n",
    "from dotenv import load_dotenv\n",
    "\n",
    "# .env에서 키 불러오기\n",
    "load_dotenv(dotenv_path=\"/home/kiwi/github_package/cobot2/.env\")\n",
    "client = openai.OpenAI(api_key=os.getenv(\"OPENAI_API_KEY\"))\n",
    "\n",
    "\n"
   ]
  }
 ],
 "metadata": {
  "kernelspec": {
   "display_name": "Python 3",
   "language": "python",
   "name": "python3"
  },
  "language_info": {
   "name": "python",
   "version": "3.10.12"
  }
 },
 "nbformat": 4,
 "nbformat_minor": 5
}
