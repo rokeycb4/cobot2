{
 "cells": [
  {
   "cell_type": "code",
   "execution_count": null,
   "id": "37ede475",
   "metadata": {},
   "outputs": [
    {
     "name": "stdout",
     "output_type": "stream",
     "text": [
      "Jarvis: How may I assist you today?\n"
     ]
    },
    {
     "name": "stderr",
     "output_type": "stream",
     "text": [
      "sh: 1: mpg123: not found\n"
     ]
    },
    {
     "name": "stdout",
     "output_type": "stream",
     "text": [
      "Jarvis: Yes, I am JARVIS. How may I assist you today?\n"
     ]
    },
    {
     "name": "stderr",
     "output_type": "stream",
     "text": [
      "sh: 1: mpg123: not found\n"
     ]
    },
    {
     "name": "stdout",
     "output_type": "stream",
     "text": [
      "Jarvis: How may I assist you today?\n"
     ]
    },
    {
     "name": "stderr",
     "output_type": "stream",
     "text": [
      "sh: 1: mpg123: not found\n"
     ]
    }
   ],
   "source": [
    "import os\n",
    "import requests\n",
    "from dotenv import load_dotenv\n",
    "import openai\n",
    "\n",
    "# 환경변수 로드\n",
    "load_dotenv(dotenv_path=\"/home/kiwi/github_package/cobot2/.env\")\n",
    "\n",
    "# API 키\n",
    "openai.api_key = os.getenv(\"OPENAI_API_KEY\")\n",
    "eleven_api_key = os.getenv(\"ELEVEN_API_KEY\")\n",
    "voice_id = os.getenv(\"ELEVEN_VOICE_ID\")\n",
    "\n",
    "# OpenAI GPT 호출\n",
    "def ask_gpt(prompt):\n",
    "    client = openai.OpenAI(api_key=openai.api_key)\n",
    "    response = client.chat.completions.create(\n",
    "        model=\"gpt-4\",\n",
    "        messages=[\n",
    "            {\"role\": \"system\", \"content\": \"You are JARVIS, an intelligent and formal AI assistant.\"},\n",
    "            {\"role\": \"user\", \"content\": prompt}\n",
    "        ]\n",
    "    )\n",
    "    return response.choices[0].message.content\n",
    "\n",
    "# ElevenLabs로 TTS 요청\n",
    "def speak_jarvis(text):\n",
    "    url = f\"https://api.elevenlabs.io/v1/text-to-speech/{voice_id}\"\n",
    "    headers = {\n",
    "        \"xi-api-key\": eleven_api_key,\n",
    "        \"Content-Type\": \"application/json\"\n",
    "    }\n",
    "    body = {\n",
    "        \"text\": text,\n",
    "        \"voice_settings\": {\n",
    "            \"stability\": 0.7,\n",
    "            \"similarity_boost\": 0.8\n",
    "        }\n",
    "    }\n",
    "\n",
    "    response = requests.post(url, headers=headers, json=body)\n",
    "    if response.status_code == 200:\n",
    "        with open(\"jarvis_voice.mp3\", \"wb\") as f:\n",
    "            f.write(response.content)\n",
    "        os.system(\"mpg123 jarvis_voice.mp3\")  # 또는 playsound, ffplay 등으로 대체 가능\n",
    "    else:\n",
    "        print(\"❌ 오류 발생:\", response.status_code, response.text)\n",
    "\n",
    "# 메인 루프\n",
    "def run_jarvis_loop():\n",
    "    while True:\n",
    "        user_input = input(\"You: \")\n",
    "        if user_input.lower() in [\"exit\", \"quit\", \"종료\"]:\n",
    "            print(\"Jarvis: Shutting down.\")\n",
    "            break\n",
    "        gpt_response = ask_gpt(user_input)\n",
    "        print(\"Jarvis:\", gpt_response)\n",
    "        speak_jarvis(gpt_response)\n",
    "\n",
    "if __name__ == \"__main__\":\n",
    "    run_jarvis_loop()\n"
   ]
  }
 ],
 "metadata": {
  "kernelspec": {
   "display_name": "Python 3",
   "language": "python",
   "name": "python3"
  },
  "language_info": {
   "codemirror_mode": {
    "name": "ipython",
    "version": 3
   },
   "file_extension": ".py",
   "mimetype": "text/x-python",
   "name": "python",
   "nbconvert_exporter": "python",
   "pygments_lexer": "ipython3",
   "version": "3.10.12"
  }
 },
 "nbformat": 4,
 "nbformat_minor": 5
}
