{
 "cells": [
  {
   "cell_type": "code",
   "execution_count": 6,
   "id": "9579805b",
   "metadata": {},
   "outputs": [
    {
     "name": "stdout",
     "output_type": "stream",
     "text": [
      "Defaulting to user installation because normal site-packages is not writeable\n",
      "Collecting git+https://github.com/dsdanielpark/openWakeWord.git\n",
      "  Cloning https://github.com/dsdanielpark/openWakeWord.git to /tmp/pip-req-build-awy2zy4t\n",
      "  Running command git clone --filter=blob:none --quiet https://github.com/dsdanielpark/openWakeWord.git /tmp/pip-req-build-awy2zy4t\n",
      "Username for 'https://github.com': \u001b[31mERROR: Operation cancelled by user\u001b[0m\u001b[31m\n",
      "\u001b[0m^C\n",
      "Note: you may need to restart the kernel to use updated packages.\n"
     ]
    }
   ],
   "source": [
    "%pip install git+https://github.com/dsdanielpark/openWakeWord.git"
   ]
  },
  {
   "cell_type": "code",
   "execution_count": null,
   "id": "cb738f1f",
   "metadata": {},
   "outputs": [],
   "source": [
    "import numpy as np\n",
    "import tensorflow as tf\n",
    "\n",
    "def save_wakeword_model(embedding, name, save_path):\n",
    "    \"\"\"\n",
    "    주어진 평균 임베딩으로 .tflite 웨이크워드 모델 생성\n",
    "    embedding: np.array\n",
    "    name: 웨이크워드 이름\n",
    "    save_path: 저장 경로 (.tflite)\n",
    "    \"\"\"\n",
    "    embedding = embedding.astype(np.float32)\n",
    "    model = tf.keras.Sequential([\n",
    "        tf.keras.layers.Input(shape=embedding.shape),\n",
    "        tf.keras.layers.Lambda(lambda x: x)\n",
    "    ])\n",
    "    converter = tf.lite.TFLiteConverter.from_keras_model(model)\n",
    "    tflite_model = converter.convert()\n",
    "\n",
    "    with open(save_path, \"wb\") as f:\n",
    "        f.write(tflite_model)\n",
    "    print(f\"저장됨: {save_path}\")\n"
   ]
  },
  {
   "cell_type": "code",
   "execution_count": 1,
   "id": "7d6e58db",
   "metadata": {},
   "outputs": [
    {
     "ename": "ImportError",
     "evalue": "cannot import name 'create_wakeword_model' from 'openwakeword.utils' (/home/kiwi/.local/lib/python3.10/site-packages/openwakeword/utils.py)",
     "output_type": "error",
     "traceback": [
      "\u001b[0;31m---------------------------------------------------------------------------\u001b[0m",
      "\u001b[0;31mImportError\u001b[0m                               Traceback (most recent call last)",
      "Cell \u001b[0;32mIn[1], line 1\u001b[0m\n\u001b[0;32m----> 1\u001b[0m \u001b[38;5;28;01mfrom\u001b[39;00m \u001b[38;5;21;01mopenwakeword\u001b[39;00m\u001b[38;5;21;01m.\u001b[39;00m\u001b[38;5;21;01mutils\u001b[39;00m \u001b[38;5;28;01mimport\u001b[39;00m create_wakeword_model\n\u001b[1;32m      3\u001b[0m \u001b[38;5;66;03m# 녹음한 wav 파일 경로 리스트 생성\u001b[39;00m\n\u001b[1;32m      4\u001b[0m audio_paths \u001b[38;5;241m=\u001b[39m [\u001b[38;5;124mf\u001b[39m\u001b[38;5;124m\"\u001b[39m\u001b[38;5;124mdataset/my_wakeword/\u001b[39m\u001b[38;5;132;01m{\u001b[39;00mi\u001b[38;5;132;01m:\u001b[39;00m\u001b[38;5;124m03d\u001b[39m\u001b[38;5;132;01m}\u001b[39;00m\u001b[38;5;124m.wav\u001b[39m\u001b[38;5;124m\"\u001b[39m \u001b[38;5;28;01mfor\u001b[39;00m i \u001b[38;5;129;01min\u001b[39;00m \u001b[38;5;28mrange\u001b[39m(\u001b[38;5;241m20\u001b[39m)]\n",
      "\u001b[0;31mImportError\u001b[0m: cannot import name 'create_wakeword_model' from 'openwakeword.utils' (/home/kiwi/.local/lib/python3.10/site-packages/openwakeword/utils.py)"
     ]
    }
   ],
   "source": [
    "from openwakeword.utils import create_wakeword_model\n",
    "\n",
    "# 녹음한 wav 파일 경로 리스트 생성\n",
    "audio_paths = [f\"dataset/my_wakeword/{i:03d}.wav\" for i in range(20)]\n",
    "\n",
    "# 모델 생성\n",
    "create_wakeword_model(\n",
    "    name=\"hello_rokey_custom\",\n",
    "    audio_paths=audio_paths,\n",
    "    save_path=\"hello_rokey_custom.tflite\"\n",
    ")"
   ]
  },
  {
   "cell_type": "code",
   "execution_count": null,
   "id": "c369b923",
   "metadata": {},
   "outputs": [],
   "source": []
  }
 ],
 "metadata": {
  "kernelspec": {
   "display_name": "Python 3",
   "language": "python",
   "name": "python3"
  },
  "language_info": {
   "codemirror_mode": {
    "name": "ipython",
    "version": 3
   },
   "file_extension": ".py",
   "mimetype": "text/x-python",
   "name": "python",
   "nbconvert_exporter": "python",
   "pygments_lexer": "ipython3",
   "version": "3.10.12"
  }
 },
 "nbformat": 4,
 "nbformat_minor": 5
}
